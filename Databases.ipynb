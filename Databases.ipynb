{
 "cells": [
  {
   "cell_type": "code",
   "execution_count": null,
   "id": "ab875d65-7aa6-4345-a844-080f8bdc98b4",
   "metadata": {},
   "outputs": [],
   "source": [
    "from sqlalchemy import create_engine, MetaData, Table, select\n",
    "\n",
    "engine = create_engine('sqlite:///books.db')\n",
    "metadata = MetaData()\n",
    "\n",
    "books_table = Table('books', metadata, autoload_with=engine)\n",
    "\n",
    "query = select(books_table.c.title).order_by(books_table.c.title)\n",
    "\n",
    "with engine.connect() as connection:\n",
    "    results = connection.execute(query)\n",
    "    for row in results:\n",
    "        print(row.title)\n",
    "\n",
    "\n",
    "#C:\\Users\\david\\OneDrive\\Desktop\\MO4-Modules and Databases>C:/Users/david/AppData/Local/Programs/Python/Python312/python.exe \"c:/Users/david/OneDrive/Desktop/MO4-Modules and Databases/Data.py\"\n",
    "#Perdido Street Station\n",
    "#Small Gods\n",
    "#The Spellman Files\n",
    "#The Weirdstone of Brisingamen\n",
    "#Thud!"
   ]
  }
 ],
 "metadata": {
  "kernelspec": {
   "display_name": "Python 3 (ipykernel)",
   "language": "python",
   "name": "python3"
  },
  "language_info": {
   "codemirror_mode": {
    "name": "ipython",
    "version": 3
   },
   "file_extension": ".py",
   "mimetype": "text/x-python",
   "name": "python",
   "nbconvert_exporter": "python",
   "pygments_lexer": "ipython3",
   "version": "3.12.4"
  }
 },
 "nbformat": 4,
 "nbformat_minor": 5
}
