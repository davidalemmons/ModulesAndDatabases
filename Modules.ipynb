{
 "cells": [
  {
   "cell_type": "code",
   "execution_count": 7,
   "id": "412be059-8e80-4f07-8be5-11b7fbbe54b4",
   "metadata": {},
   "outputs": [],
   "source": [
    "def hours():\n",
    "    print(\"Open 9-5 daily\")\n",
    "\n",
    "\n",
    "\n",
    "#C:\\Users\\david\\OneDrive\\Desktop\\MO4-Modules and Databases>C:/Users/david/AppData/Local/Programs/Python/Python312/python.exe \"c:/Users/david/OneDrive/Desktop/MO4-ModulePython 3.12.6 (tags/v3.12.6:a4a2d2b, Sep  6 2024, 20:11:23) [MSC v.1940 64 bit (AMD64)] on win32\n",
    "#Type \"help\", \"copyright\", \"credits\" or \"license\" for more information.\n",
    "#>>> import zoo\n",
    "#>>> zoo.hours()\n",
    "#Open 9-5 daily\n",
    "#>>> import zoo as menagerie\n",
    "#>>> menagerie.hours()\n",
    "#Open 9-5 daily\n",
    "#>>>"
   ]
  }
 ],
 "metadata": {
  "kernelspec": {
   "display_name": "Python 3 (ipykernel)",
   "language": "python",
   "name": "python3"
  },
  "language_info": {
   "codemirror_mode": {
    "name": "ipython",
    "version": 3
   },
   "file_extension": ".py",
   "mimetype": "text/x-python",
   "name": "python",
   "nbconvert_exporter": "python",
   "pygments_lexer": "ipython3",
   "version": "3.12.4"
  }
 },
 "nbformat": 4,
 "nbformat_minor": 5
}
